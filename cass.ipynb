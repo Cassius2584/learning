{
 "cells": [
  {
   "cell_type": "code",
   "execution_count": 3,
   "metadata": {},
   "outputs": [],
   "source": [
    "# any imports we need can go here"
   ]
  },
  {
   "cell_type": "markdown",
   "metadata": {},
   "source": [
    "### TODO list:\n",
    "\n",
    "1. Write a function called `join_strings` to join together two strings;\n",
    "   for example, given \"abc\" and \"def\" as input, it should return \"abcdef\"\n",
    "\n",
    "2. Write a function to count the number of characters in a string; for example,\n",
    "   given the string \"hello\", it should return 5.\n",
    "\n",
    "3. Write a function to count how many times a given character appears in a string;\n",
    "   For example, given the string \"abba\", and character \"b\", it should return 2\n",
    "\n",
    "4. Write a function to count how many characters two strings have in common;\n",
    "   For example, given strings \"abcde\" and \"bbbddd\", it should return 2, because both\n",
    "   have a \"b\" as second character and \"d\" as 4th character"
   ]
  },
  {
   "cell_type": "code",
   "execution_count": 15,
   "metadata": {},
   "outputs": [
    {
     "data": {
      "text/plain": [
       "'hello Cass'"
      ]
     },
     "execution_count": 15,
     "metadata": {},
     "output_type": "execute_result"
    }
   ],
   "source": [
    "def say_hello_to(name):\n",
    "    return 'hello ' + str(name)\n",
    "\n",
    "say_hello_to('Cass')"
   ]
  },
  {
   "cell_type": "code",
   "execution_count": 17,
   "metadata": {},
   "outputs": [
    {
     "data": {
      "text/plain": [
       "'Cassius is the best'"
      ]
     },
     "execution_count": 17,
     "metadata": {},
     "output_type": "execute_result"
    }
   ],
   "source": [
    "def join_strings(a, b):\n",
    "    return a + b\n",
    "join_strings('Cassius ', 'is the best')\n"
   ]
  },
  {
   "cell_type": "code",
   "execution_count": 30,
   "metadata": {},
   "outputs": [
    {
     "data": {
      "text/plain": [
       "13"
      ]
     },
     "execution_count": 30,
     "metadata": {},
     "output_type": "execute_result"
    }
   ],
   "source": [
    "def string_count(word):\n",
    "    return len(word)\n",
    "\n",
    "string_count('Iridocyclitis')"
   ]
  },
  {
   "cell_type": "code",
   "execution_count": 32,
   "metadata": {},
   "outputs": [
    {
     "data": {
      "text/plain": [
       "2"
      ]
     },
     "execution_count": 32,
     "metadata": {},
     "output_type": "execute_result"
    }
   ],
   "source": [
    "def character_count(word):\n",
    "    return word.count('b')\n",
    "\n",
    "character_count('babylon')\n"
   ]
  },
  {
   "cell_type": "code",
   "execution_count": 48,
   "metadata": {},
   "outputs": [
    {
     "name": "stdout",
     "output_type": "stream",
     "text": [
      "4\n",
      "4\n"
     ]
    }
   ],
   "source": [
    "\n",
    "def  string_count2(word):\n",
    "    count = 0\n",
    "    for x in word:\n",
    "        count += 1    \n",
    "    \n",
    "    return count\n",
    "\n",
    "print(string_count2(\"prat\"))\n",
    "print(string_count2(\"prat\"))\n",
    "\n"
   ]
  },
  {
   "cell_type": "code",
   "execution_count": 89,
   "metadata": {},
   "outputs": [
    {
     "name": "stdout",
     "output_type": "stream",
     "text": [
      "1\n"
     ]
    }
   ],
   "source": [
    "def common_letter(word1, word2):\n",
    "    count=0\n",
    "    if len(word1) < len(word2):\n",
    "        word = word1\n",
    "    else: word = word2\n",
    "    \n",
    "    for i in range(len(word)):\n",
    "        if word1[i] == word2[i]:\n",
    "            count +=1\n",
    "    \n",
    "    return count\n",
    "\n",
    "print(common_letter('train', 'plane'))\n",
    "        "
   ]
  },
  {
   "cell_type": "code",
   "execution_count": 77,
   "metadata": {},
   "outputs": [
    {
     "name": "stdout",
     "output_type": "stream",
     "text": [
      "True\n"
     ]
    }
   ],
   "source": [
    "a = len(\"alice\")\n",
    "b = len(\"bob\")\n",
    "\n",
    "print(a > b)"
   ]
  },
  {
   "cell_type": "code",
   "execution_count": null,
   "metadata": {},
   "outputs": [],
   "source": []
  }
 ],
 "metadata": {
  "kernelspec": {
   "display_name": "Python 3.10.1 ('venv': venv)",
   "language": "python",
   "name": "python3"
  },
  "language_info": {
   "codemirror_mode": {
    "name": "ipython",
    "version": 3
   },
   "file_extension": ".py",
   "mimetype": "text/x-python",
   "name": "python",
   "nbconvert_exporter": "python",
   "pygments_lexer": "ipython3",
   "version": "3.10.1"
  },
  "orig_nbformat": 4,
  "vscode": {
   "interpreter": {
    "hash": "d20dac33499c3a13116462767cea58b4f3efc40e166d4e1aa940fb4e17441cd5"
   }
  }
 },
 "nbformat": 4,
 "nbformat_minor": 2
}
